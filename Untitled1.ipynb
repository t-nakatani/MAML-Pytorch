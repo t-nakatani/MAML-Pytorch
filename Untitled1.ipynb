{
 "cells": [
  {
   "cell_type": "code",
   "execution_count": 214,
   "metadata": {
    "scrolled": true
   },
   "outputs": [
    {
     "name": "stdout",
     "output_type": "stream",
     "text": [
      "/bin/sh: 1: nvcc: not found\r\n"
     ]
    }
   ],
   "source": [
    "!nvcc -V"
   ]
  },
  {
   "cell_type": "code",
   "execution_count": 6,
   "metadata": {},
   "outputs": [
    {
     "data": {
      "text/plain": [
       "False"
      ]
     },
     "execution_count": 6,
     "metadata": {},
     "output_type": "execute_result"
    }
   ],
   "source": [
    "import os\n",
    "os.path.isfile(\"/flower/images/50_0.png\")"
   ]
  },
  {
   "cell_type": "code",
   "execution_count": 52,
   "metadata": {
    "scrolled": false
   },
   "outputs": [
    {
     "name": "stdout",
     "output_type": "stream",
     "text": [
      "Namespace(epoch=30000, imgc=3, imgsz=84, k_qry=1, k_spt=1, meta_lr=0.001, n_way=2, task_num=4, update_lr=0.01, update_step=5, update_step_test=10)\n",
      "Meta(\n",
      "  (net): Learner(\n",
      "    conv2d:(ch_in:3, ch_out:32, k:3x3, stride:1, padding:0)\n",
      "    relu:(True,)\n",
      "    bn:(32,)\n",
      "    max_pool2d:(k:2, stride:2, padding:0)\n",
      "    conv2d:(ch_in:32, ch_out:32, k:3x3, stride:1, padding:0)\n",
      "    relu:(True,)\n",
      "    bn:(32,)\n",
      "    max_pool2d:(k:2, stride:2, padding:0)\n",
      "    conv2d:(ch_in:32, ch_out:32, k:3x3, stride:1, padding:0)\n",
      "    relu:(True,)\n",
      "    bn:(32,)\n",
      "    max_pool2d:(k:2, stride:2, padding:0)\n",
      "    conv2d:(ch_in:32, ch_out:32, k:3x3, stride:1, padding:0)\n",
      "    relu:(True,)\n",
      "    bn:(32,)\n",
      "    max_pool2d:(k:2, stride:1, padding:0)\n",
      "    flatten:()\n",
      "    linear:(in:800, out:2)\n",
      "    \n",
      "    (vars): ParameterList(\n",
      "        (0): Parameter containing: [torch.cuda.FloatTensor of size 32x3x3x3 (GPU 0)]\n",
      "        (1): Parameter containing: [torch.cuda.FloatTensor of size 32 (GPU 0)]\n",
      "        (2): Parameter containing: [torch.cuda.FloatTensor of size 32 (GPU 0)]\n",
      "        (3): Parameter containing: [torch.cuda.FloatTensor of size 32 (GPU 0)]\n",
      "        (4): Parameter containing: [torch.cuda.FloatTensor of size 32x32x3x3 (GPU 0)]\n",
      "        (5): Parameter containing: [torch.cuda.FloatTensor of size 32 (GPU 0)]\n",
      "        (6): Parameter containing: [torch.cuda.FloatTensor of size 32 (GPU 0)]\n",
      "        (7): Parameter containing: [torch.cuda.FloatTensor of size 32 (GPU 0)]\n",
      "        (8): Parameter containing: [torch.cuda.FloatTensor of size 32x32x3x3 (GPU 0)]\n",
      "        (9): Parameter containing: [torch.cuda.FloatTensor of size 32 (GPU 0)]\n",
      "        (10): Parameter containing: [torch.cuda.FloatTensor of size 32 (GPU 0)]\n",
      "        (11): Parameter containing: [torch.cuda.FloatTensor of size 32 (GPU 0)]\n",
      "        (12): Parameter containing: [torch.cuda.FloatTensor of size 32x32x3x3 (GPU 0)]\n",
      "        (13): Parameter containing: [torch.cuda.FloatTensor of size 32 (GPU 0)]\n",
      "        (14): Parameter containing: [torch.cuda.FloatTensor of size 32 (GPU 0)]\n",
      "        (15): Parameter containing: [torch.cuda.FloatTensor of size 32 (GPU 0)]\n",
      "        (16): Parameter containing: [torch.cuda.FloatTensor of size 2x800 (GPU 0)]\n",
      "        (17): Parameter containing: [torch.cuda.FloatTensor of size 2 (GPU 0)]\n",
      "    )\n",
      "    (vars_bn): ParameterList(\n",
      "        (0): Parameter containing: [torch.cuda.FloatTensor of size 32 (GPU 0)]\n",
      "        (1): Parameter containing: [torch.cuda.FloatTensor of size 32 (GPU 0)]\n",
      "        (2): Parameter containing: [torch.cuda.FloatTensor of size 32 (GPU 0)]\n",
      "        (3): Parameter containing: [torch.cuda.FloatTensor of size 32 (GPU 0)]\n",
      "        (4): Parameter containing: [torch.cuda.FloatTensor of size 32 (GPU 0)]\n",
      "        (5): Parameter containing: [torch.cuda.FloatTensor of size 32 (GPU 0)]\n",
      "        (6): Parameter containing: [torch.cuda.FloatTensor of size 32 (GPU 0)]\n",
      "        (7): Parameter containing: [torch.cuda.FloatTensor of size 32 (GPU 0)]\n",
      "    )\n",
      "  )\n",
      ")\n",
      "Total trainable tensors: 30498\n",
      "shuffle DB :train, b:10000, 2-way, 1-shot, 1-query, resize:84\n",
      "===train_test_split===\n",
      "shuffle DB :test, b:100, 2-way, 1-shot, 1-query, resize:84\n",
      "===train_test_split===\n",
      "shuffle DB :pred, b:1, 2-way, 1-shot, 6-query, resize:84\n",
      "shuffle DB :pred, b:1, 2-way, 1-shot, 7-query, resize:84\n",
      "shuffle DB :pred, b:1, 2-way, 1-shot, 4-query, resize:84\n",
      "shuffle DB :pred, b:1, 2-way, 1-shot, 7-query, resize:84\n",
      "shuffle DB :pred, b:1, 2-way, 1-shot, 4-query, resize:84\n",
      "shuffle DB :pred, b:1, 2-way, 1-shot, 5-query, resize:84\n",
      "shuffle DB :pred, b:1, 2-way, 1-shot, 5-query, resize:84\n",
      "shuffle DB :pred, b:1, 2-way, 1-shot, 7-query, resize:84\n",
      "shuffle DB :pred, b:1, 2-way, 1-shot, 5-query, resize:84\n",
      "shuffle DB :pred, b:1, 2-way, 1-shot, 8-query, resize:84\n",
      "shuffle DB :pred, b:1, 2-way, 1-shot, 6-query, resize:84\n",
      "shuffle DB :pred, b:1, 2-way, 1-shot, 5-query, resize:84\n",
      "shuffle DB :pred, b:1, 2-way, 1-shot, 6-query, resize:84\n",
      "shuffle DB :pred, b:1, 2-way, 1-shot, 5-query, resize:84\n",
      "shuffle DB :pred, b:1, 2-way, 1-shot, 5-query, resize:84\n",
      "shuffle DB :pred, b:1, 2-way, 1-shot, 7-query, resize:84\n",
      "shuffle DB :pred, b:1, 2-way, 1-shot, 6-query, resize:84\n",
      "shuffle DB :pred, b:1, 2-way, 1-shot, 6-query, resize:84\n",
      "shuffle DB :pred, b:1, 2-way, 1-shot, 6-query, resize:84\n",
      "shuffle DB :pred, b:1, 2-way, 1-shot, 5-query, resize:84\n",
      "shuffle DB :pred, b:1, 2-way, 1-shot, 7-query, resize:84\n",
      "shuffle DB :pred, b:1, 2-way, 1-shot, 6-query, resize:84\n",
      "shuffle DB :pred, b:1, 2-way, 1-shot, 5-query, resize:84\n",
      "shuffle DB :pred, b:1, 2-way, 1-shot, 3-query, resize:84\n",
      "shuffle DB :pred, b:1, 2-way, 1-shot, 6-query, resize:84\n",
      "shuffle DB :pred, b:1, 2-way, 1-shot, 8-query, resize:84\n",
      "shuffle DB :pred, b:1, 2-way, 1-shot, 7-query, resize:84\n",
      "shuffle DB :pred, b:1, 2-way, 1-shot, 6-query, resize:84\n",
      "shuffle DB :pred, b:1, 2-way, 1-shot, 5-query, resize:84\n",
      "shuffle DB :pred, b:1, 2-way, 1-shot, 3-query, resize:84\n",
      "shuffle DB :pred, b:1, 2-way, 1-shot, 5-query, resize:84\n",
      "shuffle DB :pred, b:1, 2-way, 1-shot, 4-query, resize:84\n",
      "shuffle DB :pred, b:1, 2-way, 1-shot, 6-query, resize:84\n",
      "shuffle DB :pred, b:1, 2-way, 1-shot, 9-query, resize:84\n",
      "shuffle DB :pred, b:1, 2-way, 1-shot, 8-query, resize:84\n",
      "shuffle DB :pred, b:1, 2-way, 1-shot, 8-query, resize:84\n",
      "shuffle DB :pred, b:1, 2-way, 1-shot, 7-query, resize:84\n",
      "shuffle DB :pred, b:1, 2-way, 1-shot, 8-query, resize:84\n",
      "shuffle DB :pred, b:1, 2-way, 1-shot, 4-query, resize:84\n",
      "shuffle DB :pred, b:1, 2-way, 1-shot, 5-query, resize:84\n",
      "shuffle DB :pred, b:1, 2-way, 1-shot, 5-query, resize:84\n",
      "shuffle DB :pred, b:1, 2-way, 1-shot, 6-query, resize:84\n",
      "shuffle DB :pred, b:1, 2-way, 1-shot, 7-query, resize:84\n",
      "shuffle DB :pred, b:1, 2-way, 1-shot, 4-query, resize:84\n",
      "shuffle DB :pred, b:1, 2-way, 1-shot, 6-query, resize:84\n",
      "shuffle DB :pred, b:1, 2-way, 1-shot, 6-query, resize:84\n",
      "shuffle DB :pred, b:1, 2-way, 1-shot, 10-query, resize:84\n",
      "shuffle DB :pred, b:1, 2-way, 1-shot, 12-query, resize:84\n",
      "shuffle DB :pred, b:1, 2-way, 1-shot, 5-query, resize:84\n",
      "shuffle DB :pred, b:1, 2-way, 1-shot, 5-query, resize:84\n",
      "shuffle DB :pred, b:1, 2-way, 1-shot, 5-query, resize:84\n",
      "shuffle DB :pred, b:1, 2-way, 1-shot, 6-query, resize:84\n",
      "shuffle DB :pred, b:1, 2-way, 1-shot, 7-query, resize:84\n",
      "shuffle DB :pred, b:1, 2-way, 1-shot, 10-query, resize:84\n",
      "shuffle DB :pred, b:1, 2-way, 1-shot, 7-query, resize:84\n",
      "shuffle DB :pred, b:1, 2-way, 1-shot, 6-query, resize:84\n",
      "shuffle DB :pred, b:1, 2-way, 1-shot, 7-query, resize:84\n",
      "shuffle DB :pred, b:1, 2-way, 1-shot, 9-query, resize:84\n",
      "shuffle DB :pred, b:1, 2-way, 1-shot, 9-query, resize:84\n",
      "shuffle DB :pred, b:1, 2-way, 1-shot, 7-query, resize:84\n",
      "shuffle DB :pred, b:1, 2-way, 1-shot, 3-query, resize:84\n",
      "shuffle DB :pred, b:1, 2-way, 1-shot, 2-query, resize:84\n",
      "shuffle DB :pred, b:1, 2-way, 1-shot, 9-query, resize:84\n",
      "shuffle DB :pred, b:1, 2-way, 1-shot, 12-query, resize:84\n",
      "shuffle DB :pred, b:1, 2-way, 1-shot, 4-query, resize:84\n",
      "shuffle DB :pred, b:1, 2-way, 1-shot, 7-query, resize:84\n",
      "shuffle DB :pred, b:1, 2-way, 1-shot, 9-query, resize:84\n",
      "shuffle DB :pred, b:1, 2-way, 1-shot, 4-query, resize:84\n",
      "shuffle DB :pred, b:1, 2-way, 1-shot, 3-query, resize:84\n",
      "shuffle DB :pred, b:1, 2-way, 1-shot, 3-query, resize:84\n",
      "shuffle DB :pred, b:1, 2-way, 1-shot, 1-query, resize:84\n",
      "shuffle DB :pred, b:1, 2-way, 1-shot, 2-query, resize:84\n",
      "shuffle DB :pred, b:1, 2-way, 1-shot, 2-query, resize:84\n",
      "shuffle DB :pred, b:1, 2-way, 1-shot, 3-query, resize:84\n",
      "shuffle DB :pred, b:1, 2-way, 1-shot, 3-query, resize:84\n",
      "shuffle DB :pred, b:1, 2-way, 1-shot, 5-query, resize:84\n",
      "shuffle DB :pred, b:1, 2-way, 1-shot, 4-query, resize:84\n",
      "shuffle DB :pred, b:1, 2-way, 1-shot, 4-query, resize:84\n",
      "shuffle DB :pred, b:1, 2-way, 1-shot, 2-query, resize:84\n",
      "shuffle DB :pred, b:1, 2-way, 1-shot, 4-query, resize:84\n",
      "shuffle DB :pred, b:1, 2-way, 1-shot, 4-query, resize:84\n",
      "shuffle DB :pred, b:1, 2-way, 1-shot, 5-query, resize:84\n",
      "shuffle DB :pred, b:1, 2-way, 1-shot, 7-query, resize:84\n",
      "shuffle DB :pred, b:1, 2-way, 1-shot, 5-query, resize:84\n",
      "shuffle DB :pred, b:1, 2-way, 1-shot, 6-query, resize:84\n",
      "shuffle DB :pred, b:1, 2-way, 1-shot, 5-query, resize:84\n",
      "shuffle DB :pred, b:1, 2-way, 1-shot, 4-query, resize:84\n",
      "shuffle DB :pred, b:1, 2-way, 1-shot, 5-query, resize:84\n",
      "shuffle DB :pred, b:1, 2-way, 1-shot, 7-query, resize:84\n",
      "shuffle DB :pred, b:1, 2-way, 1-shot, 5-query, resize:84\n"
     ]
    },
    {
     "name": "stdout",
     "output_type": "stream",
     "text": [
      "shuffle DB :pred, b:1, 2-way, 1-shot, 6-query, resize:84\n",
      "shuffle DB :pred, b:1, 2-way, 1-shot, 5-query, resize:84\n",
      "shuffle DB :pred, b:1, 2-way, 1-shot, 1-query, resize:84\n",
      "shuffle DB :pred, b:1, 2-way, 1-shot, 5-query, resize:84\n",
      "shuffle DB :pred, b:1, 2-way, 1-shot, 5-query, resize:84\n",
      "shuffle DB :pred, b:1, 2-way, 1-shot, 3-query, resize:84\n",
      "shuffle DB :pred, b:1, 2-way, 1-shot, 7-query, resize:84\n",
      "shuffle DB :pred, b:1, 2-way, 1-shot, 4-query, resize:84\n",
      "shuffle DB :pred, b:1, 2-way, 1-shot, 4-query, resize:84\n",
      "shuffle DB :pred, b:1, 2-way, 1-shot, 5-query, resize:84\n",
      "shuffle DB :pred, b:1, 2-way, 1-shot, 4-query, resize:84\n",
      "shuffle DB :pred, b:1, 2-way, 1-shot, 6-query, resize:84\n",
      "shuffle DB :pred, b:1, 2-way, 1-shot, 4-query, resize:84\n",
      "shuffle DB :pred, b:1, 2-way, 1-shot, 5-query, resize:84\n",
      "shuffle DB :pred, b:1, 2-way, 1-shot, 5-query, resize:84\n",
      "shuffle DB :pred, b:1, 2-way, 1-shot, 5-query, resize:84\n",
      "shuffle DB :pred, b:1, 2-way, 1-shot, 7-query, resize:84\n",
      "shuffle DB :pred, b:1, 2-way, 1-shot, 6-query, resize:84\n",
      "shuffle DB :pred, b:1, 2-way, 1-shot, 4-query, resize:84\n",
      "shuffle DB :pred, b:1, 2-way, 1-shot, 5-query, resize:84\n",
      "shuffle DB :pred, b:1, 2-way, 1-shot, 7-query, resize:84\n",
      "shuffle DB :pred, b:1, 2-way, 1-shot, 2-query, resize:84\n",
      "shuffle DB :pred, b:1, 2-way, 1-shot, 6-query, resize:84\n",
      "shuffle DB :pred, b:1, 2-way, 1-shot, 6-query, resize:84\n",
      "shuffle DB :pred, b:1, 2-way, 1-shot, 4-query, resize:84\n",
      "shuffle DB :pred, b:1, 2-way, 1-shot, 4-query, resize:84\n",
      "shuffle DB :pred, b:1, 2-way, 1-shot, 7-query, resize:84\n",
      "shuffle DB :pred, b:1, 2-way, 1-shot, 7-query, resize:84\n",
      "shuffle DB :pred, b:1, 2-way, 1-shot, 7-query, resize:84\n",
      "shuffle DB :pred, b:1, 2-way, 1-shot, 6-query, resize:84\n",
      "shuffle DB :pred, b:1, 2-way, 1-shot, 5-query, resize:84\n",
      "shuffle DB :pred, b:1, 2-way, 1-shot, 5-query, resize:84\n",
      "shuffle DB :pred, b:1, 2-way, 1-shot, 5-query, resize:84\n",
      "shuffle DB :pred, b:1, 2-way, 1-shot, 3-query, resize:84\n",
      "shuffle DB :pred, b:1, 2-way, 1-shot, 6-query, resize:84\n",
      "shuffle DB :pred, b:1, 2-way, 1-shot, 6-query, resize:84\n",
      "shuffle DB :pred, b:1, 2-way, 1-shot, 5-query, resize:84\n",
      "shuffle DB :pred, b:1, 2-way, 1-shot, 5-query, resize:84\n",
      "shuffle DB :pred, b:1, 2-way, 1-shot, 5-query, resize:84\n",
      "shuffle DB :pred, b:1, 2-way, 1-shot, 4-query, resize:84\n",
      "shuffle DB :pred, b:1, 2-way, 1-shot, 5-query, resize:84\n",
      "shuffle DB :pred, b:1, 2-way, 1-shot, 4-query, resize:84\n",
      "shuffle DB :pred, b:1, 2-way, 1-shot, 5-query, resize:84\n",
      "shuffle DB :pred, b:1, 2-way, 1-shot, 3-query, resize:84\n",
      "shuffle DB :pred, b:1, 2-way, 1-shot, 3-query, resize:84\n",
      "shuffle DB :pred, b:1, 2-way, 1-shot, 6-query, resize:84\n",
      "shuffle DB :pred, b:1, 2-way, 1-shot, 3-query, resize:84\n",
      "shuffle DB :pred, b:1, 2-way, 1-shot, 6-query, resize:84\n",
      "shuffle DB :pred, b:1, 2-way, 1-shot, 3-query, resize:84\n",
      "shuffle DB :pred, b:1, 2-way, 1-shot, 5-query, resize:84\n",
      "shuffle DB :pred, b:1, 2-way, 1-shot, 5-query, resize:84\n",
      "shuffle DB :pred, b:1, 2-way, 1-shot, 6-query, resize:84\n",
      "shuffle DB :pred, b:1, 2-way, 1-shot, 6-query, resize:84\n",
      "shuffle DB :pred, b:1, 2-way, 1-shot, 4-query, resize:84\n",
      "shuffle DB :pred, b:1, 2-way, 1-shot, 6-query, resize:84\n",
      "shuffle DB :pred, b:1, 2-way, 1-shot, 5-query, resize:84\n",
      "shuffle DB :pred, b:1, 2-way, 1-shot, 6-query, resize:84\n",
      "shuffle DB :pred, b:1, 2-way, 1-shot, 4-query, resize:84\n",
      "shuffle DB :pred, b:1, 2-way, 1-shot, 6-query, resize:84\n",
      "shuffle DB :pred, b:1, 2-way, 1-shot, 6-query, resize:84\n",
      "shuffle DB :pred, b:1, 2-way, 1-shot, 7-query, resize:84\n",
      "shuffle DB :pred, b:1, 2-way, 1-shot, 5-query, resize:84\n",
      "shuffle DB :pred, b:1, 2-way, 1-shot, 7-query, resize:84\n",
      "shuffle DB :pred, b:1, 2-way, 1-shot, 4-query, resize:84\n",
      "shuffle DB :pred, b:1, 2-way, 1-shot, 5-query, resize:84\n",
      "shuffle DB :pred, b:1, 2-way, 1-shot, 6-query, resize:84\n",
      "shuffle DB :pred, b:1, 2-way, 1-shot, 5-query, resize:84\n",
      "shuffle DB :pred, b:1, 2-way, 1-shot, 4-query, resize:84\n",
      "shuffle DB :pred, b:1, 2-way, 1-shot, 5-query, resize:84\n",
      "shuffle DB :pred, b:1, 2-way, 1-shot, 3-query, resize:84\n",
      "shuffle DB :pred, b:1, 2-way, 1-shot, 7-query, resize:84\n",
      "shuffle DB :pred, b:1, 2-way, 1-shot, 7-query, resize:84\n",
      "shuffle DB :pred, b:1, 2-way, 1-shot, 5-query, resize:84\n",
      "shuffle DB :pred, b:1, 2-way, 1-shot, 5-query, resize:84\n",
      "shuffle DB :pred, b:1, 2-way, 1-shot, 5-query, resize:84\n",
      "shuffle DB :pred, b:1, 2-way, 1-shot, 5-query, resize:84\n",
      "shuffle DB :pred, b:1, 2-way, 1-shot, 6-query, resize:84\n",
      "shuffle DB :pred, b:1, 2-way, 1-shot, 5-query, resize:84\n",
      "shuffle DB :pred, b:1, 2-way, 1-shot, 5-query, resize:84\n",
      "shuffle DB :pred, b:1, 2-way, 1-shot, 9-query, resize:84\n",
      "shuffle DB :pred, b:1, 2-way, 1-shot, 5-query, resize:84\n",
      "shuffle DB :pred, b:1, 2-way, 1-shot, 7-query, resize:84\n",
      "shuffle DB :pred, b:1, 2-way, 1-shot, 6-query, resize:84\n",
      "shuffle DB :pred, b:1, 2-way, 1-shot, 4-query, resize:84\n",
      "shuffle DB :pred, b:1, 2-way, 1-shot, 5-query, resize:84\n",
      "shuffle DB :pred, b:1, 2-way, 1-shot, 4-query, resize:84\n",
      "shuffle DB :pred, b:1, 2-way, 1-shot, 1-query, resize:84\n",
      "shuffle DB :pred, b:1, 2-way, 1-shot, 5-query, resize:84\n",
      "shuffle DB :pred, b:1, 2-way, 1-shot, 4-query, resize:84\n",
      "shuffle DB :pred, b:1, 2-way, 1-shot, 5-query, resize:84\n",
      "shuffle DB :pred, b:1, 2-way, 1-shot, 6-query, resize:84\n",
      "shuffle DB :pred, b:1, 2-way, 1-shot, 5-query, resize:84\n",
      "shuffle DB :pred, b:1, 2-way, 1-shot, 4-query, resize:84\n",
      "shuffle DB :pred, b:1, 2-way, 1-shot, 4-query, resize:84\n",
      "shuffle DB :pred, b:1, 2-way, 1-shot, 4-query, resize:84\n",
      "shuffle DB :pred, b:1, 2-way, 1-shot, 4-query, resize:84\n",
      "shuffle DB :pred, b:1, 2-way, 1-shot, 4-query, resize:84\n",
      "shuffle DB :pred, b:1, 2-way, 1-shot, 2-query, resize:84\n",
      "shuffle DB :pred, b:1, 2-way, 1-shot, 4-query, resize:84\n",
      "shuffle DB :pred, b:1, 2-way, 1-shot, 6-query, resize:84\n",
      "shuffle DB :pred, b:1, 2-way, 1-shot, 8-query, resize:84\n",
      "shuffle DB :pred, b:1, 2-way, 1-shot, 5-query, resize:84\n",
      "shuffle DB :pred, b:1, 2-way, 1-shot, 4-query, resize:84\n",
      "shuffle DB :pred, b:1, 2-way, 1-shot, 5-query, resize:84\n",
      "shuffle DB :pred, b:1, 2-way, 1-shot, 2-query, resize:84\n",
      "shuffle DB :pred, b:1, 2-way, 1-shot, 5-query, resize:84\n",
      "shuffle DB :pred, b:1, 2-way, 1-shot, 4-query, resize:84\n",
      "shuffle DB :pred, b:1, 2-way, 1-shot, 4-query, resize:84\n",
      "shuffle DB :pred, b:1, 2-way, 1-shot, 2-query, resize:84\n",
      "shuffle DB :pred, b:1, 2-way, 1-shot, 5-query, resize:84\n",
      "shuffle DB :pred, b:1, 2-way, 1-shot, 6-query, resize:84\n",
      "shuffle DB :pred, b:1, 2-way, 1-shot, 6-query, resize:84\n",
      "shuffle DB :pred, b:1, 2-way, 1-shot, 5-query, resize:84\n",
      "shuffle DB :pred, b:1, 2-way, 1-shot, 6-query, resize:84\n",
      "shuffle DB :pred, b:1, 2-way, 1-shot, 9-query, resize:84\n",
      "shuffle DB :pred, b:1, 2-way, 1-shot, 5-query, resize:84\n",
      "shuffle DB :pred, b:1, 2-way, 1-shot, 10-query, resize:84\n",
      "shuffle DB :pred, b:1, 2-way, 1-shot, 8-query, resize:84\n",
      "shuffle DB :pred, b:1, 2-way, 1-shot, 7-query, resize:84\n",
      "shuffle DB :pred, b:1, 2-way, 1-shot, 7-query, resize:84\n",
      "shuffle DB :pred, b:1, 2-way, 1-shot, 6-query, resize:84\n",
      "shuffle DB :pred, b:1, 2-way, 1-shot, 5-query, resize:84\n",
      "shuffle DB :pred, b:1, 2-way, 1-shot, 4-query, resize:84\n",
      "shuffle DB :pred, b:1, 2-way, 1-shot, 4-query, resize:84\n",
      "shuffle DB :pred, b:1, 2-way, 1-shot, 1-query, resize:84\n",
      "shuffle DB :pred, b:1, 2-way, 1-shot, 2-query, resize:84\n",
      "shuffle DB :pred, b:1, 2-way, 1-shot, 2-query, resize:84\n",
      "shuffle DB :pred, b:1, 2-way, 1-shot, 1-query, resize:84\n",
      "shuffle DB :pred, b:1, 2-way, 1-shot, 7-query, resize:84\n",
      "shuffle DB :pred, b:1, 2-way, 1-shot, 6-query, resize:84\n",
      "shuffle DB :pred, b:1, 2-way, 1-shot, 5-query, resize:84\n",
      "shuffle DB :pred, b:1, 2-way, 1-shot, 4-query, resize:84\n",
      "shuffle DB :pred, b:1, 2-way, 1-shot, 7-query, resize:84\n",
      "shuffle DB :pred, b:1, 2-way, 1-shot, 5-query, resize:84\n",
      "shuffle DB :pred, b:1, 2-way, 1-shot, 5-query, resize:84\n",
      "shuffle DB :pred, b:1, 2-way, 1-shot, 3-query, resize:84\n",
      "shuffle DB :pred, b:1, 2-way, 1-shot, 6-query, resize:84\n",
      "shuffle DB :pred, b:1, 2-way, 1-shot, 5-query, resize:84\n",
      "shuffle DB :pred, b:1, 2-way, 1-shot, 5-query, resize:84\n",
      "shuffle DB :pred, b:1, 2-way, 1-shot, 5-query, resize:84\n",
      "shuffle DB :pred, b:1, 2-way, 1-shot, 7-query, resize:84\n",
      "shuffle DB :pred, b:1, 2-way, 1-shot, 7-query, resize:84\n",
      "shuffle DB :pred, b:1, 2-way, 1-shot, 5-query, resize:84\n",
      "shuffle DB :pred, b:1, 2-way, 1-shot, 6-query, resize:84\n"
     ]
    },
    {
     "name": "stdout",
     "output_type": "stream",
     "text": [
      "shuffle DB :pred, b:1, 2-way, 1-shot, 5-query, resize:84\n",
      "shuffle DB :pred, b:1, 2-way, 1-shot, 4-query, resize:84\n",
      "shuffle DB :pred, b:1, 2-way, 1-shot, 3-query, resize:84\n",
      "shuffle DB :pred, b:1, 2-way, 1-shot, 5-query, resize:84\n",
      "shuffle DB :pred, b:1, 2-way, 1-shot, 6-query, resize:84\n",
      "shuffle DB :pred, b:1, 2-way, 1-shot, 4-query, resize:84\n",
      "shuffle DB :pred, b:1, 2-way, 1-shot, 5-query, resize:84\n",
      "shuffle DB :pred, b:1, 2-way, 1-shot, 5-query, resize:84\n",
      "shuffle DB :pred, b:1, 2-way, 1-shot, 5-query, resize:84\n",
      "step: 0 \ttraining acc: [0.375 0.5   0.5   0.5   0.75  0.5  ]\n",
      "Traceback (most recent call last):\n",
      "  File \"miniimagenet_train.py\", line 126, in <module>\n",
      "    main()\n",
      "  File \"miniimagenet_train.py\", line 84, in main\n",
      "    f.writeline(['train, ', str(step), ','] + [str(acc) + ', ' for acc in accs])\n",
      "AttributeError: '_io.TextIOWrapper' object has no attribute 'writeline'\n"
     ]
    }
   ],
   "source": [
    "!python miniimagenet_train.py"
   ]
  },
  {
   "cell_type": "code",
   "execution_count": 38,
   "metadata": {},
   "outputs": [],
   "source": [
    "import torch\n",
    "a = torch.tensor(0)"
   ]
  },
  {
   "cell_type": "code",
   "execution_count": 43,
   "metadata": {},
   "outputs": [
    {
     "data": {
      "text/plain": [
       "0"
      ]
     },
     "execution_count": 43,
     "metadata": {},
     "output_type": "execute_result"
    }
   ],
   "source": [
    "int(a)"
   ]
  },
  {
   "cell_type": "code",
   "execution_count": null,
   "metadata": {},
   "outputs": [],
   "source": []
  },
  {
   "cell_type": "code",
   "execution_count": null,
   "metadata": {},
   "outputs": [],
   "source": []
  },
  {
   "cell_type": "code",
   "execution_count": 33,
   "metadata": {
    "scrolled": false
   },
   "outputs": [
    {
     "name": "stdout",
     "output_type": "stream",
     "text": [
      "Namespace(epoch=10000, imgc=3, imgsz=84, k_qry=1, k_spt=1, meta_lr=0.001, n_way=2, task_num=4, update_lr=0.01, update_step=5, update_step_test=10)\n",
      "^C\n"
     ]
    }
   ],
   "source": [
    "!python miniimagenet_train.py"
   ]
  },
  {
   "cell_type": "code",
   "execution_count": null,
   "metadata": {},
   "outputs": [],
   "source": []
  },
  {
   "cell_type": "code",
   "execution_count": null,
   "metadata": {},
   "outputs": [],
   "source": []
  },
  {
   "cell_type": "code",
   "execution_count": 10,
   "metadata": {
    "scrolled": false
   },
   "outputs": [
    {
     "name": "stdout",
     "output_type": "stream",
     "text": [
      "Namespace(epoch=10000, imgc=3, imgsz=84, k_qry=1, k_spt=1, meta_lr=0.001, n_way=2, task_num=4, update_lr=0.01, update_step=5, update_step_test=10)\n",
      "Meta(\n",
      "  (net): Learner(\n",
      "    conv2d:(ch_in:3, ch_out:32, k:3x3, stride:1, padding:0)\n",
      "    relu:(True,)\n",
      "    bn:(32,)\n",
      "    max_pool2d:(k:2, stride:2, padding:0)\n",
      "    conv2d:(ch_in:32, ch_out:32, k:3x3, stride:1, padding:0)\n",
      "    relu:(True,)\n",
      "    bn:(32,)\n",
      "    max_pool2d:(k:2, stride:2, padding:0)\n",
      "    conv2d:(ch_in:32, ch_out:32, k:3x3, stride:1, padding:0)\n",
      "    relu:(True,)\n",
      "    bn:(32,)\n",
      "    max_pool2d:(k:2, stride:2, padding:0)\n",
      "    conv2d:(ch_in:32, ch_out:32, k:3x3, stride:1, padding:0)\n",
      "    relu:(True,)\n",
      "    bn:(32,)\n",
      "    max_pool2d:(k:2, stride:1, padding:0)\n",
      "    flatten:()\n",
      "    linear:(in:800, out:2)\n",
      "    \n",
      "    (vars): ParameterList(\n",
      "        (0): Parameter containing: [torch.cuda.FloatTensor of size 32x3x3x3 (GPU 0)]\n",
      "        (1): Parameter containing: [torch.cuda.FloatTensor of size 32 (GPU 0)]\n",
      "        (2): Parameter containing: [torch.cuda.FloatTensor of size 32 (GPU 0)]\n",
      "        (3): Parameter containing: [torch.cuda.FloatTensor of size 32 (GPU 0)]\n",
      "        (4): Parameter containing: [torch.cuda.FloatTensor of size 32x32x3x3 (GPU 0)]\n",
      "        (5): Parameter containing: [torch.cuda.FloatTensor of size 32 (GPU 0)]\n",
      "        (6): Parameter containing: [torch.cuda.FloatTensor of size 32 (GPU 0)]\n",
      "        (7): Parameter containing: [torch.cuda.FloatTensor of size 32 (GPU 0)]\n",
      "        (8): Parameter containing: [torch.cuda.FloatTensor of size 32x32x3x3 (GPU 0)]\n",
      "        (9): Parameter containing: [torch.cuda.FloatTensor of size 32 (GPU 0)]\n",
      "        (10): Parameter containing: [torch.cuda.FloatTensor of size 32 (GPU 0)]\n",
      "        (11): Parameter containing: [torch.cuda.FloatTensor of size 32 (GPU 0)]\n",
      "        (12): Parameter containing: [torch.cuda.FloatTensor of size 32x32x3x3 (GPU 0)]\n",
      "        (13): Parameter containing: [torch.cuda.FloatTensor of size 32 (GPU 0)]\n",
      "        (14): Parameter containing: [torch.cuda.FloatTensor of size 32 (GPU 0)]\n",
      "        (15): Parameter containing: [torch.cuda.FloatTensor of size 32 (GPU 0)]\n",
      "        (16): Parameter containing: [torch.cuda.FloatTensor of size 2x800 (GPU 0)]\n",
      "        (17): Parameter containing: [torch.cuda.FloatTensor of size 2 (GPU 0)]\n",
      "    )\n",
      "    (vars_bn): ParameterList(\n",
      "        (0): Parameter containing: [torch.cuda.FloatTensor of size 32 (GPU 0)]\n",
      "        (1): Parameter containing: [torch.cuda.FloatTensor of size 32 (GPU 0)]\n",
      "        (2): Parameter containing: [torch.cuda.FloatTensor of size 32 (GPU 0)]\n",
      "        (3): Parameter containing: [torch.cuda.FloatTensor of size 32 (GPU 0)]\n",
      "        (4): Parameter containing: [torch.cuda.FloatTensor of size 32 (GPU 0)]\n",
      "        (5): Parameter containing: [torch.cuda.FloatTensor of size 32 (GPU 0)]\n",
      "        (6): Parameter containing: [torch.cuda.FloatTensor of size 32 (GPU 0)]\n",
      "        (7): Parameter containing: [torch.cuda.FloatTensor of size 32 (GPU 0)]\n",
      "    )\n",
      "  )\n",
      ")\n",
      "Total trainable tensors: 30498\n",
      "shuffle DB :train, b:10000, 2-way, 1-shot, 1-query, resize:84\n",
      "===train_test_split===\n",
      "shuffle DB :test, b:100, 2-way, 1-shot, 1-query, resize:84\n",
      "===train_test_split===\n",
      "step: 0 \ttraining acc: [0.375 0.5   0.5   0.5   0.75  0.5  ]\n",
      "step: 0 \ttest acc: [0.485 0.535 0.52  0.5   0.525 0.555 0.595 0.61  0.61  0.62  0.63 ]\n",
      "step: 30 \ttraining acc: [0.5   0.5   0.5   0.5   0.5   0.625]\n",
      "step: 60 \ttraining acc: [0.5   0.5   0.5   0.5   0.625 0.5  ]\n",
      "step: 90 \ttraining acc: [0.5   0.5   0.5   0.625 0.5   0.625]\n",
      "step: 120 \ttraining acc: [0.5   0.5   0.5   0.625 0.625 0.625]\n",
      "step: 150 \ttraining acc: [0.5   0.5   0.5   0.625 0.625 0.5  ]\n",
      "step: 180 \ttraining acc: [0.5   0.75  0.5   0.875 0.75  0.875]\n",
      "step: 210 \ttraining acc: [0.5   0.375 0.5   0.5   0.625 0.75 ]\n",
      "step: 240 \ttraining acc: [0.5   0.75  0.625 0.625 0.5   0.625]\n",
      "step: 270 \ttraining acc: [0.5   0.625 0.5   0.5   0.5   0.375]\n",
      "step: 300 \ttraining acc: [0.5   0.625 0.625 0.875 0.875 0.875]\n",
      "step: 330 \ttraining acc: [0.5   0.5   0.625 0.625 0.75  0.625]\n",
      "step: 360 \ttraining acc: [0.375 0.5   0.625 0.625 0.625 0.5  ]\n",
      "step: 390 \ttraining acc: [0.5   0.625 0.625 0.625 0.625 0.625]\n",
      "step: 420 \ttraining acc: [0.625 0.625 0.75  0.75  0.875 0.875]\n",
      "step: 450 \ttraining acc: [0.5   0.5   0.875 0.875 0.875 0.875]\n",
      "step: 480 \ttraining acc: [0.25  0.625 0.75  0.875 0.875 0.875]\n",
      "step: 500 \ttest acc: [0.49  0.67  0.725 0.73  0.75  0.755 0.78  0.765 0.765 0.77  0.77 ]\n",
      "tensor([0, 1], device='cuda:0')\n",
      "step: 510 \ttraining acc: [0.5   0.75  0.875 0.875 0.875 0.875]\n",
      "step: 540 \ttraining acc: [0.75 0.75 1.   1.   1.   1.  ]\n",
      "step: 570 \ttraining acc: [0.5   0.75  0.875 0.875 0.875 0.875]\n",
      "step: 600 \ttraining acc: [0.5   0.875 1.    0.875 0.875 0.875]\n",
      "step: 630 \ttraining acc: [0.75  0.625 0.875 0.75  0.875 0.875]\n",
      "step: 660 \ttraining acc: [0.625 0.75  0.625 0.625 0.75  0.75 ]\n",
      "step: 690 \ttraining acc: [0.25 1.   1.   1.   1.   1.  ]\n",
      "step: 720 \ttraining acc: [0.5   0.75  0.75  0.875 0.875 0.875]\n",
      "step: 750 \ttraining acc: [0.5   0.75  0.875 0.875 0.875 0.875]\n",
      "step: 780 \ttraining acc: [0.25  0.875 1.    1.    1.    1.   ]\n",
      "step: 810 \ttraining acc: [0.5   0.75  1.    0.875 0.875 0.875]\n",
      "step: 840 \ttraining acc: [0.5   0.625 1.    1.    1.    1.   ]\n",
      "step: 870 \ttraining acc: [0.375 0.75  0.75  0.625 0.625 0.625]\n",
      "step: 900 \ttraining acc: [0.375 0.875 0.875 0.875 0.875 0.875]\n",
      "step: 930 \ttraining acc: [0.5 1.  1.  1.  1.  1. ]\n",
      "step: 960 \ttraining acc: [0.375 0.875 0.875 0.875 0.875 0.875]\n",
      "step: 990 \ttraining acc: [0.5 1.  1.  1.  1.  1. ]\n",
      "step: 1000 \ttest acc: [0.49  0.77  0.82  0.865 0.87  0.875 0.885 0.875 0.87  0.875 0.87 ]\n",
      "step: 1020 \ttraining acc: [0.5   0.625 0.875 0.875 1.    1.   ]\n",
      "step: 1050 \ttraining acc: [0.75  0.625 0.875 0.875 0.875 0.875]\n",
      "step: 1080 \ttraining acc: [0.625 0.75  0.625 0.625 0.625 0.625]\n",
      "step: 1110 \ttraining acc: [0.5   0.875 0.75  1.    0.875 1.   ]\n",
      "step: 1140 \ttraining acc: [0.25 1.   1.   1.   1.   1.  ]\n",
      "step: 1170 \ttraining acc: [0.375 1.    1.    1.    1.    1.   ]\n",
      "step: 1200 \ttraining acc: [0.375 1.    1.    1.    1.    1.   ]\n",
      "step: 1230 \ttraining acc: [0.5 1.  1.  1.  1.  1. ]\n",
      "step: 1260 \ttraining acc: [0.5   0.875 1.    1.    1.    1.   ]\n",
      "step: 1290 \ttraining acc: [0.125 1.    1.    1.    1.    1.   ]\n",
      "^C\n",
      "Traceback (most recent call last):\n",
      "  File \"miniimagenet_train.py\", line 113, in <module>\n",
      "    main()\n",
      "  File \"miniimagenet_train.py\", line 73, in main\n",
      "    accs = maml(x_spt, y_spt, x_qry, y_qry)\n",
      "  File \"/opt/conda/lib/python3.7/site-packages/torch/nn/modules/module.py\", line 722, in _call_impl\n",
      "    result = self.forward(*input, **kwargs)\n",
      "  File \"/host/github/MAML-Pytorch_copy/meta.py\", line 117, in forward\n",
      "    grad = torch.autograd.grad(loss, fast_weights)\n",
      "  File \"/opt/conda/lib/python3.7/site-packages/torch/autograd/__init__.py\", line 192, in grad\n",
      "    inputs, allow_unused)\n",
      "KeyboardInterrupt\n"
     ]
    }
   ],
   "source": [
    "!python miniimagenet_train.py"
   ]
  },
  {
   "cell_type": "code",
   "execution_count": 46,
   "metadata": {},
   "outputs": [],
   "source": [
    "df = pd.read_csv('flower.csv')"
   ]
  },
  {
   "cell_type": "code",
   "execution_count": 4,
   "metadata": {
    "scrolled": false
   },
   "outputs": [
    {
     "name": "stdout",
     "output_type": "stream",
     "text": [
      "Solving environment: done\n",
      "\n",
      "\n",
      "==> WARNING: A newer version of conda exists. <==\n",
      "  current version: 4.5.8\n",
      "  latest version: 4.9.2\n",
      "\n",
      "Please update conda by running\n",
      "\n",
      "    $ conda update -n base -c defaults conda\n",
      "\n",
      "\n",
      "\n",
      "## Package Plan ##\n",
      "\n",
      "  environment location: /opt/conda/envs/maml\n",
      "\n",
      "  added / updated specs: \n",
      "    - scipy\n",
      "\n",
      "\n",
      "The following NEW packages will be INSTALLED:\n",
      "\n",
      "    scipy: 1.5.2-py37h0b6359f_0\n",
      "\n",
      "Preparing transaction: done\n",
      "Verifying transaction: done\n",
      "Executing transaction: done\n"
     ]
    }
   ],
   "source": [
    "!conda install -y scipy"
   ]
  },
  {
   "cell_type": "code",
   "execution_count": 5,
   "metadata": {},
   "outputs": [],
   "source": [
    "right_list = !ls ../../data/dataset/all_data/img/right\n",
    "left_list = !ls ../../data/dataset/all_data/img/left"
   ]
  },
  {
   "cell_type": "code",
   "execution_count": 6,
   "metadata": {},
   "outputs": [],
   "source": [
    "fnames = right_list + left_list"
   ]
  },
  {
   "cell_type": "code",
   "execution_count": 9,
   "metadata": {},
   "outputs": [
    {
     "data": {
      "text/plain": [
       "(1525, 1525)"
      ]
     },
     "execution_count": 9,
     "metadata": {},
     "output_type": "execute_result"
    }
   ],
   "source": [
    "len(right_list), len(left_list)"
   ]
  },
  {
   "cell_type": "code",
   "execution_count": 10,
   "metadata": {},
   "outputs": [],
   "source": [
    "import pandas as pd\n",
    "df = pd.DataFrame()"
   ]
  },
  {
   "cell_type": "code",
   "execution_count": 12,
   "metadata": {},
   "outputs": [],
   "source": [
    "df['fname'] = fnames"
   ]
  },
  {
   "cell_type": "code",
   "execution_count": 14,
   "metadata": {},
   "outputs": [],
   "source": [
    "df['lr'] = ['r' if i < len(right_list) else 'l' for i in range(len(fnames))]"
   ]
  },
  {
   "cell_type": "code",
   "execution_count": 19,
   "metadata": {},
   "outputs": [],
   "source": [
    "import re\n",
    "df['pre'] = [re.findall('(.+)_\\d+', fname)[0] for fname in df['fname']]\n",
    "df['suf'] = [re.findall('.+_(\\d+.png)', fname)[0] for fname in df['fname']]"
   ]
  },
  {
   "cell_type": "code",
   "execution_count": 31,
   "metadata": {
    "scrolled": false
   },
   "outputs": [],
   "source": [
    "import numpy as np\n",
    "df2 = pd.DataFrame(np.vstack((list(df.groupby('pre').count()['suf']), list(df.groupby('pre').count()['suf'].index))).T)"
   ]
  },
  {
   "cell_type": "code",
   "execution_count": 42,
   "metadata": {},
   "outputs": [
    {
     "data": {
      "text/plain": [
       "['167', '168', '169', '34-1']"
      ]
     },
     "execution_count": 42,
     "metadata": {},
     "output_type": "execute_result"
    }
   ],
   "source": [
    "drop_list = []\n",
    "for size, pre in zip(df2[0], df2[1]):\n",
    "    if int(size) < 4:\n",
    "        drop_list.append(pre)\n",
    "drop_list"
   ]
  },
  {
   "cell_type": "code",
   "execution_count": 56,
   "metadata": {
    "scrolled": false
   },
   "outputs": [
    {
     "data": {
      "text/plain": [
       "[4, 4, 4, 4, 4, 6, 6, 6, 6, 6]"
      ]
     },
     "execution_count": 56,
     "metadata": {},
     "output_type": "execute_result"
    }
   ],
   "source": [
    "for name in drop_list:\n",
    "    df = df[df['pre'] != name]\n",
    "sorted(list(df.groupby('pre').count()['suf']))[:10]"
   ]
  },
  {
   "cell_type": "code",
   "execution_count": 51,
   "metadata": {},
   "outputs": [
    {
     "ename": "ValueError",
     "evalue": "The truth value of a Series is ambiguous. Use a.empty, a.bool(), a.item(), a.any() or a.all().",
     "output_type": "error",
     "traceback": [
      "\u001b[0;31m---------------------------------------------------------------------------\u001b[0m",
      "\u001b[0;31mValueError\u001b[0m                                Traceback (most recent call last)",
      "\u001b[0;32m<ipython-input-51-b71cc0f59c0a>\u001b[0m in \u001b[0;36m<module>\u001b[0;34m\u001b[0m\n\u001b[0;32m----> 1\u001b[0;31m \u001b[0mdf\u001b[0m\u001b[0;34m[\u001b[0m\u001b[0;34m'pre'\u001b[0m\u001b[0;34m]\u001b[0m \u001b[0;32min\u001b[0m \u001b[0mdrop_list\u001b[0m\u001b[0;34m\u001b[0m\u001b[0;34m\u001b[0m\u001b[0m\n\u001b[0m",
      "\u001b[0;32m/opt/conda/envs/maml/lib/python3.7/site-packages/pandas/core/generic.py\u001b[0m in \u001b[0;36m__nonzero__\u001b[0;34m(self)\u001b[0m\n\u001b[1;32m   1328\u001b[0m     \u001b[0;32mdef\u001b[0m \u001b[0m__nonzero__\u001b[0m\u001b[0;34m(\u001b[0m\u001b[0mself\u001b[0m\u001b[0;34m)\u001b[0m\u001b[0;34m:\u001b[0m\u001b[0;34m\u001b[0m\u001b[0;34m\u001b[0m\u001b[0m\n\u001b[1;32m   1329\u001b[0m         raise ValueError(\n\u001b[0;32m-> 1330\u001b[0;31m             \u001b[0;34mf\"The truth value of a {type(self).__name__} is ambiguous. \"\u001b[0m\u001b[0;34m\u001b[0m\u001b[0;34m\u001b[0m\u001b[0m\n\u001b[0m\u001b[1;32m   1331\u001b[0m             \u001b[0;34m\"Use a.empty, a.bool(), a.item(), a.any() or a.all().\"\u001b[0m\u001b[0;34m\u001b[0m\u001b[0;34m\u001b[0m\u001b[0m\n\u001b[1;32m   1332\u001b[0m         )\n",
      "\u001b[0;31mValueError\u001b[0m: The truth value of a Series is ambiguous. Use a.empty, a.bool(), a.item(), a.any() or a.all()."
     ]
    }
   ],
   "source": [
    "df['pre'] in drop_list"
   ]
  },
  {
   "cell_type": "code",
   "execution_count": 72,
   "metadata": {},
   "outputs": [
    {
     "data": {
      "text/plain": [
       "3042"
      ]
     },
     "execution_count": 72,
     "metadata": {},
     "output_type": "execute_result"
    }
   ],
   "source": [
    "len(df)"
   ]
  },
  {
   "cell_type": "code",
   "execution_count": 71,
   "metadata": {
    "scrolled": false
   },
   "outputs": [
    {
     "data": {
      "text/html": [
       "<div>\n",
       "<style scoped>\n",
       "    .dataframe tbody tr th:only-of-type {\n",
       "        vertical-align: middle;\n",
       "    }\n",
       "\n",
       "    .dataframe tbody tr th {\n",
       "        vertical-align: top;\n",
       "    }\n",
       "\n",
       "    .dataframe thead th {\n",
       "        text-align: right;\n",
       "    }\n",
       "</style>\n",
       "<table border=\"1\" class=\"dataframe\">\n",
       "  <thead>\n",
       "    <tr style=\"text-align: right;\">\n",
       "      <th></th>\n",
       "      <th>fname</th>\n",
       "      <th>lr</th>\n",
       "      <th>pre</th>\n",
       "      <th>suf</th>\n",
       "    </tr>\n",
       "  </thead>\n",
       "  <tbody>\n",
       "    <tr>\n",
       "      <th>0</th>\n",
       "      <td>0_0.png</td>\n",
       "      <td>r</td>\n",
       "      <td>0</td>\n",
       "      <td>0.png</td>\n",
       "    </tr>\n",
       "    <tr>\n",
       "      <th>1</th>\n",
       "      <td>0_10.png</td>\n",
       "      <td>r</td>\n",
       "      <td>0</td>\n",
       "      <td>10.png</td>\n",
       "    </tr>\n",
       "    <tr>\n",
       "      <th>2</th>\n",
       "      <td>0_12.png</td>\n",
       "      <td>r</td>\n",
       "      <td>0</td>\n",
       "      <td>12.png</td>\n",
       "    </tr>\n",
       "    <tr>\n",
       "      <th>3</th>\n",
       "      <td>0_2.png</td>\n",
       "      <td>r</td>\n",
       "      <td>0</td>\n",
       "      <td>2.png</td>\n",
       "    </tr>\n",
       "    <tr>\n",
       "      <th>4</th>\n",
       "      <td>0_4.png</td>\n",
       "      <td>r</td>\n",
       "      <td>0</td>\n",
       "      <td>4.png</td>\n",
       "    </tr>\n",
       "    <tr>\n",
       "      <th>5</th>\n",
       "      <td>0_6.png</td>\n",
       "      <td>r</td>\n",
       "      <td>0</td>\n",
       "      <td>6.png</td>\n",
       "    </tr>\n",
       "    <tr>\n",
       "      <th>6</th>\n",
       "      <td>0_8.png</td>\n",
       "      <td>r</td>\n",
       "      <td>0</td>\n",
       "      <td>8.png</td>\n",
       "    </tr>\n",
       "    <tr>\n",
       "      <th>7</th>\n",
       "      <td>100_0.png</td>\n",
       "      <td>r</td>\n",
       "      <td>100</td>\n",
       "      <td>0.png</td>\n",
       "    </tr>\n",
       "    <tr>\n",
       "      <th>8</th>\n",
       "      <td>100_2.png</td>\n",
       "      <td>r</td>\n",
       "      <td>100</td>\n",
       "      <td>2.png</td>\n",
       "    </tr>\n",
       "    <tr>\n",
       "      <th>9</th>\n",
       "      <td>100_4.png</td>\n",
       "      <td>r</td>\n",
       "      <td>100</td>\n",
       "      <td>4.png</td>\n",
       "    </tr>\n",
       "    <tr>\n",
       "      <th>10</th>\n",
       "      <td>100_6.png</td>\n",
       "      <td>r</td>\n",
       "      <td>100</td>\n",
       "      <td>6.png</td>\n",
       "    </tr>\n",
       "    <tr>\n",
       "      <th>11</th>\n",
       "      <td>100_8.png</td>\n",
       "      <td>r</td>\n",
       "      <td>100</td>\n",
       "      <td>8.png</td>\n",
       "    </tr>\n",
       "    <tr>\n",
       "      <th>12</th>\n",
       "      <td>101_0.png</td>\n",
       "      <td>r</td>\n",
       "      <td>101</td>\n",
       "      <td>0.png</td>\n",
       "    </tr>\n",
       "    <tr>\n",
       "      <th>13</th>\n",
       "      <td>101_10.png</td>\n",
       "      <td>r</td>\n",
       "      <td>101</td>\n",
       "      <td>10.png</td>\n",
       "    </tr>\n",
       "    <tr>\n",
       "      <th>14</th>\n",
       "      <td>101_12.png</td>\n",
       "      <td>r</td>\n",
       "      <td>101</td>\n",
       "      <td>12.png</td>\n",
       "    </tr>\n",
       "    <tr>\n",
       "      <th>15</th>\n",
       "      <td>101_14.png</td>\n",
       "      <td>r</td>\n",
       "      <td>101</td>\n",
       "      <td>14.png</td>\n",
       "    </tr>\n",
       "    <tr>\n",
       "      <th>16</th>\n",
       "      <td>101_2.png</td>\n",
       "      <td>r</td>\n",
       "      <td>101</td>\n",
       "      <td>2.png</td>\n",
       "    </tr>\n",
       "    <tr>\n",
       "      <th>17</th>\n",
       "      <td>101_4.png</td>\n",
       "      <td>r</td>\n",
       "      <td>101</td>\n",
       "      <td>4.png</td>\n",
       "    </tr>\n",
       "    <tr>\n",
       "      <th>18</th>\n",
       "      <td>101_6.png</td>\n",
       "      <td>r</td>\n",
       "      <td>101</td>\n",
       "      <td>6.png</td>\n",
       "    </tr>\n",
       "    <tr>\n",
       "      <th>19</th>\n",
       "      <td>101_8.png</td>\n",
       "      <td>r</td>\n",
       "      <td>101</td>\n",
       "      <td>8.png</td>\n",
       "    </tr>\n",
       "  </tbody>\n",
       "</table>\n",
       "</div>"
      ],
      "text/plain": [
       "         fname lr  pre     suf\n",
       "0      0_0.png  r    0   0.png\n",
       "1     0_10.png  r    0  10.png\n",
       "2     0_12.png  r    0  12.png\n",
       "3      0_2.png  r    0   2.png\n",
       "4      0_4.png  r    0   4.png\n",
       "5      0_6.png  r    0   6.png\n",
       "6      0_8.png  r    0   8.png\n",
       "7    100_0.png  r  100   0.png\n",
       "8    100_2.png  r  100   2.png\n",
       "9    100_4.png  r  100   4.png\n",
       "10   100_6.png  r  100   6.png\n",
       "11   100_8.png  r  100   8.png\n",
       "12   101_0.png  r  101   0.png\n",
       "13  101_10.png  r  101  10.png\n",
       "14  101_12.png  r  101  12.png\n",
       "15  101_14.png  r  101  14.png\n",
       "16   101_2.png  r  101   2.png\n",
       "17   101_4.png  r  101   4.png\n",
       "18   101_6.png  r  101   6.png\n",
       "19   101_8.png  r  101   8.png"
      ]
     },
     "execution_count": 71,
     "metadata": {},
     "output_type": "execute_result"
    }
   ],
   "source": [
    "df.head(20)"
   ]
  },
  {
   "cell_type": "code",
   "execution_count": 70,
   "metadata": {},
   "outputs": [
    {
     "data": {
      "text/plain": [
       "['0_0.png', '0_10.png', '0_12.png', '0_2.png', '0_4.png', '0_6.png', '0_8.png']"
      ]
     },
     "execution_count": 70,
     "metadata": {},
     "output_type": "execute_result"
    }
   ],
   "source": [
    "l = df[df['pre'] == '0']['fname']\n",
    "list(l[:len(l)//2])"
   ]
  },
  {
   "cell_type": "code",
   "execution_count": 73,
   "metadata": {},
   "outputs": [],
   "source": [
    "df.to_csv('flower.csv', index = False)"
   ]
  },
  {
   "cell_type": "code",
   "execution_count": 78,
   "metadata": {
    "collapsed": true
   },
   "outputs": [
    {
     "data": {
      "text/plain": [
       "array(['0', '100', '101', '102', '103', '104', '105', '106', '107', '108',\n",
       "       '109', '110', '111', '112', '113', '114', '115', '116', '117',\n",
       "       '118', '119', '11', '120', '121', '122', '123', '124', '125',\n",
       "       '126', '127', '128', '129', '12', '130', '131', '132', '133',\n",
       "       '134', '135', '136', '137', '138', '139', '140', '141', '142',\n",
       "       '143', '144', '145', '146', '147', '148-1', '149', '150', '151',\n",
       "       '152', '153', '154', '155', '156', '157', '158', '159', '160',\n",
       "       '161', '163-2', '163', '164', '165', '16', '170', '172', '178',\n",
       "       '17', '180', '181', '182', '184', '185', '186', '187', '188',\n",
       "       '189', '18', '190', '191', '192', '193', '194', '195-2', '195',\n",
       "       '196', '197', '198', '199', '19', '1', '200', '202', '204', '205',\n",
       "       '206', '207', '208', '209', '20', '210', '212', '213', '214',\n",
       "       '215', '216', '217', '218', '219', '21', '220', '222', '223',\n",
       "       '224', '225', '226', '227', '228', '229', '22', '230', '231',\n",
       "       '232', '233', '234', '235', '236', '237', '238', '239', '23',\n",
       "       '240', '241', '242', '243-1', '244-1', '245', '246-1', '247',\n",
       "       '248', '249', '24', '250', '251', '252', '253', '254', '255',\n",
       "       '256', '257', '258', '259', '25', '260', '261', '262', '263',\n",
       "       '264', '265', '26', '27', '28', '29', '2', '31', '32', '33',\n",
       "       '34-2', '35-2', '35', '36', '37', '38', '39-2', '3', '40', '41',\n",
       "       '42', '43', '44-1', '44-2', '45', '46-1', '47', '48', '49', '4',\n",
       "       '50', '51', '52', '53', '54', '55', '57', '58', '59', '5', '60',\n",
       "       '61', '62', '63', '64', '65', '66', '67', '68', '69', '70', '71',\n",
       "       '72', '74', '75', '76', '77', '78', '79', '7', '80', '81', '82',\n",
       "       '83', '84', '85', '86', '87', '89', '8', '90', '91', '92', '93',\n",
       "       '94', '95', '96', '97', '99', '9'], dtype=object)"
      ]
     },
     "execution_count": 78,
     "metadata": {},
     "output_type": "execute_result"
    }
   ],
   "source": [
    "df[\"pre\"].unique()"
   ]
  },
  {
   "cell_type": "code",
   "execution_count": 111,
   "metadata": {
    "scrolled": false
   },
   "outputs": [],
   "source": [
    "df = pd.read_csv('flower.csv')\n",
    "dic = df.groupby('pre').count()['fname'].to_dict()"
   ]
  },
  {
   "cell_type": "code",
   "execution_count": 81,
   "metadata": {},
   "outputs": [],
   "source": [
    "    def create_batch(self, batchsz):\n",
    "        \"\"\"\n",
    "        create batch for meta-learning.\n",
    "        ×episode× here means batch, and it means how many sets we want to retain.\n",
    "        :param episodes: batch size\n",
    "        :return:\n",
    "        \"\"\"\n",
    "        self.support_x_batch = []  # support set batch\n",
    "        self.query_x_batch = []  # query set batch\n",
    "        df = pd.read_csv('flower.csv')\n",
    "        pres = df['pre'].unique()\n",
    "        dic = df.groupby('pre').count()['fname'].to_dict()        \n",
    "        for b in range(batchsz):  # for each batch\n",
    "            # 1.select n_way classes randomly\n",
    "            support_x = []\n",
    "            query_x = []\n",
    "            selected_flower = np.random.choice(pres)\n",
    "                # 2. select k_shot + k_query for each class\n",
    "            selected_imgs_idx = np.random.choice(dic[selected_flower]//2, self.k_shot + self.k_query, False)\n",
    "            np.random.shuffle(selected_imgs_idx)\n",
    "            indexDtrain = np.array(selected_imgs_idx[:self.k_shot])  # idx for Dtrain\n",
    "            indexDtest = np.array(selected_imgs_idx[self.k_shot:])  # idx for Dtest\n",
    "            support_x.append(list(df[df['pre'] == selected_flower].loc[[indexDtrain, indexDtrain+1521], 'fname']))  # get all images filename for current Dtrain\n",
    "            query_x.append(list(df[df['pre'] == selected_flower].loc[[indexDtest, indexDtest+1521], 'fname']))\n",
    "\n",
    "            # shuffle the correponding relation between support set and query set\n",
    "            random.shuffle(support_x)\n",
    "            random.shuffle(query_x)\n",
    "\n",
    "            self.support_x_batch.append(support_x)  # append set to current sets\n",
    "            self.query_x_batch.append(query_x)  # append sets to current sets"
   ]
  },
  {
   "cell_type": "code",
   "execution_count": 107,
   "metadata": {},
   "outputs": [
    {
     "data": {
      "text/plain": [
       "'157'"
      ]
     },
     "execution_count": 107,
     "metadata": {},
     "output_type": "execute_result"
    }
   ],
   "source": [
    "pres = df['pre'].unique()\n",
    "np.random.choice(pres)"
   ]
  },
  {
   "cell_type": "code",
   "execution_count": 112,
   "metadata": {},
   "outputs": [
    {
     "data": {
      "text/plain": [
       "int"
      ]
     },
     "execution_count": 112,
     "metadata": {},
     "output_type": "execute_result"
    }
   ],
   "source": [
    "type(dic['0'])"
   ]
  },
  {
   "cell_type": "code",
   "execution_count": 23,
   "metadata": {
    "scrolled": false
   },
   "outputs": [],
   "source": [
    "import pandas as pd\n",
    "df = pd.read_csv('flower.csv')\n",
    "df\n",
    "list(df.groupby('pre').count()['fname'])\n",
    "a = list(df.groupby('pre').count()['fname'].index)"
   ]
  },
  {
   "cell_type": "code",
   "execution_count": 24,
   "metadata": {
    "scrolled": false
   },
   "outputs": [
    {
     "data": {
      "text/plain": [
       "['0',\n",
       " '1',\n",
       " '100',\n",
       " '101',\n",
       " '102',\n",
       " '103',\n",
       " '104',\n",
       " '105',\n",
       " '106',\n",
       " '107',\n",
       " '108',\n",
       " '109',\n",
       " '11',\n",
       " '110',\n",
       " '111',\n",
       " '112',\n",
       " '113',\n",
       " '114',\n",
       " '115',\n",
       " '116',\n",
       " '117',\n",
       " '118',\n",
       " '119',\n",
       " '12',\n",
       " '120',\n",
       " '121',\n",
       " '122',\n",
       " '123',\n",
       " '124',\n",
       " '125',\n",
       " '126',\n",
       " '127',\n",
       " '128',\n",
       " '129',\n",
       " '130',\n",
       " '131',\n",
       " '132',\n",
       " '133',\n",
       " '134',\n",
       " '135',\n",
       " '136',\n",
       " '137',\n",
       " '138',\n",
       " '139',\n",
       " '140',\n",
       " '141',\n",
       " '142',\n",
       " '143',\n",
       " '144',\n",
       " '145',\n",
       " '146',\n",
       " '147',\n",
       " '148-1',\n",
       " '149',\n",
       " '150',\n",
       " '151',\n",
       " '152',\n",
       " '153',\n",
       " '154',\n",
       " '155',\n",
       " '156',\n",
       " '157',\n",
       " '158',\n",
       " '159',\n",
       " '16',\n",
       " '160',\n",
       " '161',\n",
       " '163',\n",
       " '163-2',\n",
       " '164',\n",
       " '165',\n",
       " '17',\n",
       " '170',\n",
       " '172',\n",
       " '178',\n",
       " '18',\n",
       " '180',\n",
       " '181',\n",
       " '182',\n",
       " '184',\n",
       " '185',\n",
       " '186',\n",
       " '187',\n",
       " '188',\n",
       " '189',\n",
       " '19',\n",
       " '190',\n",
       " '191',\n",
       " '192',\n",
       " '193',\n",
       " '194',\n",
       " '195',\n",
       " '195-2',\n",
       " '196',\n",
       " '197',\n",
       " '198',\n",
       " '199',\n",
       " '2',\n",
       " '20',\n",
       " '200',\n",
       " '202',\n",
       " '204',\n",
       " '205',\n",
       " '206',\n",
       " '207',\n",
       " '208',\n",
       " '209',\n",
       " '21',\n",
       " '210',\n",
       " '212',\n",
       " '213',\n",
       " '214',\n",
       " '215',\n",
       " '216',\n",
       " '217',\n",
       " '218',\n",
       " '219',\n",
       " '22',\n",
       " '220',\n",
       " '222',\n",
       " '223',\n",
       " '224',\n",
       " '225',\n",
       " '226',\n",
       " '227',\n",
       " '228',\n",
       " '229',\n",
       " '23',\n",
       " '230',\n",
       " '231',\n",
       " '232',\n",
       " '233',\n",
       " '234',\n",
       " '235',\n",
       " '236',\n",
       " '237',\n",
       " '238',\n",
       " '239',\n",
       " '24',\n",
       " '240',\n",
       " '241',\n",
       " '242',\n",
       " '243-1',\n",
       " '244-1',\n",
       " '245',\n",
       " '246-1',\n",
       " '247',\n",
       " '248',\n",
       " '249',\n",
       " '25',\n",
       " '250',\n",
       " '251',\n",
       " '252',\n",
       " '253',\n",
       " '254',\n",
       " '255',\n",
       " '256',\n",
       " '257',\n",
       " '258',\n",
       " '259',\n",
       " '26',\n",
       " '260',\n",
       " '261',\n",
       " '262',\n",
       " '263',\n",
       " '264',\n",
       " '265',\n",
       " '27',\n",
       " '28',\n",
       " '29',\n",
       " '3',\n",
       " '31',\n",
       " '32',\n",
       " '33',\n",
       " '34-2',\n",
       " '35',\n",
       " '35-2',\n",
       " '36',\n",
       " '37',\n",
       " '38',\n",
       " '39-2',\n",
       " '4',\n",
       " '40',\n",
       " '41',\n",
       " '42',\n",
       " '43',\n",
       " '44-1',\n",
       " '44-2',\n",
       " '45',\n",
       " '46-1',\n",
       " '47',\n",
       " '48',\n",
       " '49',\n",
       " '5',\n",
       " '50',\n",
       " '51',\n",
       " '52',\n",
       " '53',\n",
       " '54',\n",
       " '55',\n",
       " '57',\n",
       " '58',\n",
       " '59',\n",
       " '60',\n",
       " '61',\n",
       " '62',\n",
       " '63',\n",
       " '64',\n",
       " '65',\n",
       " '66',\n",
       " '67',\n",
       " '68',\n",
       " '69',\n",
       " '7',\n",
       " '70',\n",
       " '71',\n",
       " '72',\n",
       " '74',\n",
       " '75',\n",
       " '76',\n",
       " '77',\n",
       " '78',\n",
       " '79',\n",
       " '8',\n",
       " '80',\n",
       " '81',\n",
       " '82',\n",
       " '83',\n",
       " '84',\n",
       " '85',\n",
       " '86',\n",
       " '87',\n",
       " '89',\n",
       " '9',\n",
       " '90',\n",
       " '91',\n",
       " '92',\n",
       " '93',\n",
       " '94',\n",
       " '95',\n",
       " '96',\n",
       " '97',\n",
       " '99']"
      ]
     },
     "execution_count": 24,
     "metadata": {},
     "output_type": "execute_result"
    }
   ],
   "source": [
    "a"
   ]
  },
  {
   "cell_type": "code",
   "execution_count": 13,
   "metadata": {
    "scrolled": false
   },
   "outputs": [
    {
     "data": {
      "text/plain": [
       "['0_12.png', '0_13.png']"
      ]
     },
     "execution_count": 13,
     "metadata": {},
     "output_type": "execute_result"
    }
   ],
   "source": [
    "idx = 2\n",
    "selected = '0'\n",
    "list(df[df['pre'] == selected].iloc[[idx, idx+7], 0])"
   ]
  },
  {
   "cell_type": "code",
   "execution_count": null,
   "metadata": {},
   "outputs": [],
   "source": []
  },
  {
   "cell_type": "code",
   "execution_count": 16,
   "metadata": {},
   "outputs": [
    {
     "data": {
      "text/plain": [
       "['0_12.png']"
      ]
     },
     "execution_count": 16,
     "metadata": {},
     "output_type": "execute_result"
    }
   ],
   "source": [
    "[df[df['pre'] == selected].loc[idx, 'fname']]"
   ]
  },
  {
   "cell_type": "code",
   "execution_count": 145,
   "metadata": {},
   "outputs": [
    {
     "data": {
      "text/plain": [
       "'9_13.png'"
      ]
     },
     "execution_count": 145,
     "metadata": {},
     "output_type": "execute_result"
    }
   ],
   "source": [
    "df.loc[3037, 'fname']"
   ]
  },
  {
   "cell_type": "code",
   "execution_count": 159,
   "metadata": {},
   "outputs": [
    {
     "data": {
      "text/plain": [
       "2"
      ]
     },
     "execution_count": 159,
     "metadata": {},
     "output_type": "execute_result"
    }
   ],
   "source": [
    "l = np.random.choice(5,1,False)\n",
    "l[0]"
   ]
  },
  {
   "cell_type": "code",
   "execution_count": 131,
   "metadata": {},
   "outputs": [
    {
     "ename": "SyntaxError",
     "evalue": "invalid syntax (<ipython-input-131-eda45b00d5f7>, line 1)",
     "output_type": "error",
     "traceback": [
      "\u001b[0;36m  File \u001b[0;32m\"<ipython-input-131-eda45b00d5f7>\"\u001b[0;36m, line \u001b[0;32m1\u001b[0m\n\u001b[0;31m    [df.loc[index, 'fname'], df.loc[index+1521, 'fname'] for index in l]\u001b[0m\n\u001b[0m                                                           ^\u001b[0m\n\u001b[0;31mSyntaxError\u001b[0m\u001b[0;31m:\u001b[0m invalid syntax\n"
     ]
    }
   ],
   "source": [
    "[df.loc[index, 'fname'], df.loc[index+1521, 'fname'] for index in l]"
   ]
  },
  {
   "cell_type": "code",
   "execution_count": 132,
   "metadata": {},
   "outputs": [
    {
     "data": {
      "text/plain": [
       "2    0_12.png\n",
       "3     0_2.png\n",
       "0     0_0.png\n",
       "Name: fname, dtype: object"
      ]
     },
     "execution_count": 132,
     "metadata": {},
     "output_type": "execute_result"
    }
   ],
   "source": [
    "df.loc[l, 'fname']"
   ]
  },
  {
   "cell_type": "code",
   "execution_count": 133,
   "metadata": {},
   "outputs": [
    {
     "data": {
      "text/plain": [
       "1523    0_13.png\n",
       "1524     0_3.png\n",
       "1521     0_1.png\n",
       "Name: fname, dtype: object"
      ]
     },
     "execution_count": 133,
     "metadata": {},
     "output_type": "execute_result"
    }
   ],
   "source": [
    "df.loc[l+1521, 'fname']"
   ]
  },
  {
   "cell_type": "code",
   "execution_count": 13,
   "metadata": {},
   "outputs": [
    {
     "data": {
      "text/plain": [
       "3050"
      ]
     },
     "execution_count": 13,
     "metadata": {},
     "output_type": "execute_result"
    }
   ],
   "source": [
    "fnames = !ls ./flower/images\n"
   ]
  },
  {
   "cell_type": "code",
   "execution_count": 15,
   "metadata": {},
   "outputs": [],
   "source": [
    "import pandas as pd"
   ]
  },
  {
   "cell_type": "code",
   "execution_count": 21,
   "metadata": {
    "scrolled": false
   },
   "outputs": [],
   "source": [
    "df = pd.read_csv('flower.csv')\n",
    "fnames = list(df['pre'].unique())"
   ]
  },
  {
   "cell_type": "code",
   "execution_count": 41,
   "metadata": {},
   "outputs": [],
   "source": [
    "from sklearn.model_selection import train_test_split\n",
    "fnames_tr, fnames_ts = train_test_split(fnames, random_state=0)"
   ]
  },
  {
   "cell_type": "code",
   "execution_count": 42,
   "metadata": {
    "scrolled": false
   },
   "outputs": [
    {
     "data": {
      "text/plain": [
       "(182, 61)"
      ]
     },
     "execution_count": 42,
     "metadata": {},
     "output_type": "execute_result"
    }
   ],
   "source": [
    "len(fnames_tr), len(fnames_ts)"
   ]
  },
  {
   "cell_type": "code",
   "execution_count": 44,
   "metadata": {},
   "outputs": [
    {
     "data": {
      "text/plain": [
       "['87',\n",
       " '76',\n",
       " '43',\n",
       " '90',\n",
       " '61',\n",
       " '247',\n",
       " '115',\n",
       " '195-2',\n",
       " '69',\n",
       " '180',\n",
       " '103',\n",
       " '213']"
      ]
     },
     "execution_count": 44,
     "metadata": {},
     "output_type": "execute_result"
    }
   ],
   "source": [
    "fnames_tr[:12]"
   ]
  },
  {
   "cell_type": "code",
   "execution_count": 36,
   "metadata": {},
   "outputs": [],
   "source": [
    "import os \n",
    "import shutil\n",
    "os.mkdir(\"flower/train\")\n",
    "os.mkdir(\"flower/test\")\n",
    "\n",
    "for pre in fnames_tr:\n",
    "    for fname in list(df[df['pre'] == pre]['fname']):\n",
    "        shutil.move(\"flower/images/\"+fname, \"flower/train/\"+fname)\n",
    "for pre in fnames_ts:\n",
    "    for fname in list(df[df['pre'] == pre]['fname']):\n",
    "        shutil.move(\"flower/images/\"+fname, \"flower/test/\"+fname)"
   ]
  },
  {
   "cell_type": "code",
   "execution_count": 40,
   "metadata": {},
   "outputs": [],
   "source": [
    "import os \n",
    "import shutil\n",
    "\n",
    "for pre in fnames_tr:\n",
    "    for fname in list(df[df['pre'] == pre]['fname']):\n",
    "        shutil.move(\"flower/train/\"+fname, \"flower/images/\"+fname)\n",
    "for pre in fnames_ts:\n",
    "    for fname in list(df[df['pre'] == pre]['fname']):\n",
    "        shutil.move(\"flower/test/\"+fname, \"flower/images/\"+fname)"
   ]
  },
  {
   "cell_type": "code",
   "execution_count": null,
   "metadata": {},
   "outputs": [],
   "source": []
  },
  {
   "cell_type": "code",
   "execution_count": 51,
   "metadata": {},
   "outputs": [],
   "source": [
    "import  numpy as np\n",
    "import  torch, os\n",
    "from    MiniImagenet import MiniImagenet\n",
    "import  scipy.stats\n",
    "from    torch.utils.data import DataLoader\n",
    "from    torch.optim import lr_scheduler\n",
    "import  random, sys, pickle\n",
    "import  argparse\n",
    "\n",
    "from meta import Meta"
   ]
  },
  {
   "cell_type": "code",
   "execution_count": 59,
   "metadata": {},
   "outputs": [
    {
     "name": "stdout",
     "output_type": "stream",
     "text": [
      "shuffle DB :train/images, b:10000, 2-way, 1-shot, 1-query, resize:84\n",
      "===train_test_split===\n"
     ]
    }
   ],
   "source": [
    "mini = MiniImagenet('./flower/', mode='train/images', n_way=2, k_shot=1,\n",
    "                    k_query=1,\n",
    "                    batchsz=10000, resize=84)"
   ]
  },
  {
   "cell_type": "code",
   "execution_count": 61,
   "metadata": {},
   "outputs": [],
   "source": [
    "db = DataLoader(mini, 4, shuffle=True, num_workers=1, pin_memory=True)"
   ]
  },
  {
   "cell_type": "code",
   "execution_count": 65,
   "metadata": {},
   "outputs": [
    {
     "name": "stdout",
     "output_type": "stream",
     "text": [
      "2500\n"
     ]
    }
   ],
   "source": [
    "cnt = 0\n",
    "for step, (x_spt, y_spt, x_qry, y_qry) in enumerate(db):\n",
    "    cnt += 1\n",
    "print(cnt)"
   ]
  },
  {
   "cell_type": "code",
   "execution_count": 27,
   "metadata": {},
   "outputs": [
    {
     "data": {
      "text/plain": [
       "['a', 1, 2, 3, 4, 5]"
      ]
     },
     "execution_count": 27,
     "metadata": {},
     "output_type": "execute_result"
    }
   ],
   "source": [
    "l = ['a'] + [1,2,3,4,5]\n",
    "l"
   ]
  },
  {
   "cell_type": "code",
   "execution_count": 57,
   "metadata": {},
   "outputs": [
    {
     "ename": "AttributeError",
     "evalue": "'list' object has no attribute 'astype'",
     "output_type": "error",
     "traceback": [
      "\u001b[0;31m---------------------------------------------------------------------------\u001b[0m",
      "\u001b[0;31mAttributeError\u001b[0m                            Traceback (most recent call last)",
      "\u001b[0;32m<ipython-input-57-dfd4ae37fb77>\u001b[0m in \u001b[0;36m<module>\u001b[0;34m\u001b[0m\n\u001b[1;32m      2\u001b[0m \u001b[0maccs\u001b[0m \u001b[0;34m=\u001b[0m \u001b[0mnp\u001b[0m\u001b[0;34m.\u001b[0m\u001b[0marray\u001b[0m\u001b[0;34m(\u001b[0m\u001b[0;34m[\u001b[0m\u001b[0;36m1\u001b[0m\u001b[0;34m,\u001b[0m\u001b[0;36m2\u001b[0m\u001b[0;34m,\u001b[0m\u001b[0;36m3\u001b[0m\u001b[0;34m,\u001b[0m\u001b[0;36m4\u001b[0m\u001b[0;34m,\u001b[0m\u001b[0;36m5\u001b[0m\u001b[0;34m]\u001b[0m\u001b[0;34m)\u001b[0m\u001b[0;34m\u001b[0m\u001b[0;34m\u001b[0m\u001b[0m\n\u001b[1;32m      3\u001b[0m \u001b[0mstep\u001b[0m \u001b[0;34m=\u001b[0m \u001b[0;36m30\u001b[0m\u001b[0;34m\u001b[0m\u001b[0;34m\u001b[0m\u001b[0m\n\u001b[0;32m----> 4\u001b[0;31m \u001b[0;34m[\u001b[0m\u001b[0;34m'train, '\u001b[0m\u001b[0;34m,\u001b[0m \u001b[0mstr\u001b[0m\u001b[0;34m(\u001b[0m\u001b[0mstep\u001b[0m\u001b[0;34m)\u001b[0m\u001b[0;34m,\u001b[0m \u001b[0;34m','\u001b[0m\u001b[0;34m]\u001b[0m \u001b[0;34m+\u001b[0m \u001b[0;34m[\u001b[0m\u001b[0mstr\u001b[0m\u001b[0;34m(\u001b[0m\u001b[0macc\u001b[0m\u001b[0;34m)\u001b[0m \u001b[0;34m+\u001b[0m \u001b[0;34m', '\u001b[0m \u001b[0;32mfor\u001b[0m \u001b[0macc\u001b[0m \u001b[0;32min\u001b[0m \u001b[0maccs\u001b[0m\u001b[0;34m]\u001b[0m\u001b[0;34m.\u001b[0m\u001b[0mastype\u001b[0m\u001b[0;34m(\u001b[0m\u001b[0mstr\u001b[0m\u001b[0;34m)\u001b[0m\u001b[0;34m\u001b[0m\u001b[0;34m\u001b[0m\u001b[0m\n\u001b[0m",
      "\u001b[0;31mAttributeError\u001b[0m: 'list' object has no attribute 'astype'"
     ]
    }
   ],
   "source": [
    "import numpy as np\n",
    "accs = np.array([1,2,3,4,5])\n",
    "step = 30\n",
    "['train, ', str(step), ','] + [str(acc) + ', ' for acc in accs]"
   ]
  },
  {
   "cell_type": "code",
   "execution_count": null,
   "metadata": {},
   "outputs": [],
   "source": []
  },
  {
   "cell_type": "code",
   "execution_count": 73,
   "metadata": {},
   "outputs": [],
   "source": [
    "l1 = []\n",
    "l2 = []\n",
    "with open('log_1130_2.txt') as f:\n",
    "    for s_line in f:\n",
    "        l = s_line.split(',')\n",
    "        if(l[0][0] =='f'):\n",
    "            l1.append(l[:-1])\n",
    "        else:\n",
    "            l2.append(l[:-1])"
   ]
  },
  {
   "cell_type": "code",
   "execution_count": 77,
   "metadata": {},
   "outputs": [
    {
     "name": "stdout",
     "output_type": "stream",
     "text": [
      "['flower: 0', '0', '2', '3', '6', '1', '4', '5'] ['idx: 0', 'tensor(1)', 'tensor(0)', 'tensor(1)', 'tensor(0)', 'tensor(1)', 'tensor(0)', 'tensor(1)', 'tensor(0)', 'tensor(1)', 'tensor(0)', 'tensor(1)', 'tensor(0)']\n",
      "['flower: 1', '0', '6', '5', '7', '3', '1', '4', '2'] ['idx: 1', 'tensor(0)', 'tensor(1)', 'tensor(0)', 'tensor(1)', 'tensor(0)', 'tensor(1)', 'tensor(0)', 'tensor(1)', 'tensor(0)', 'tensor(1)', 'tensor(0)', 'tensor(1)', 'tensor(0)', 'tensor(1)']\n",
      "['flower: 100', '4', '1', '3', '2', '0'] ['idx: 2', 'tensor(1)', 'tensor(0)', 'tensor(1)', 'tensor(0)', 'tensor(1)', 'tensor(0)', 'tensor(1)', 'tensor(0)']\n",
      "['flower: 101', '0', '5', '1', '4', '6', '3', '7', '2'] ['idx: 3', 'tensor(1)', 'tensor(0)', 'tensor(1)', 'tensor(0)', 'tensor(1)', 'tensor(0)', 'tensor(1)', 'tensor(0)', 'tensor(1)', 'tensor(0)', 'tensor(1)', 'tensor(0)', 'tensor(1)', 'tensor(0)']\n",
      "['flower: 102', '4', '3', '1', '0', '2'] ['idx: 4', 'tensor(1)', 'tensor(0)', 'tensor(1)', 'tensor(0)', 'tensor(1)', 'tensor(0)', 'tensor(1)', 'tensor(0)']\n"
     ]
    }
   ],
   "source": [
    "for label, pred in zip(l1[:5], l2[:5]):\n",
    "    print(label, pred)\n",
    "    "
   ]
  },
  {
   "cell_type": "code",
   "execution_count": 82,
   "metadata": {},
   "outputs": [
    {
     "data": {
      "text/plain": [
       "array([3, 4, 2])"
      ]
     },
     "execution_count": 82,
     "metadata": {},
     "output_type": "execute_result"
    }
   ],
   "source": [
    "np.array([1,2,3,4,5,6,7])[np.array([2,3,1])]"
   ]
  },
  {
   "cell_type": "code",
   "execution_count": 83,
   "metadata": {},
   "outputs": [
    {
     "data": {
      "text/plain": [
       "[[1, 2, 3], [2, 3, 4]]"
      ]
     },
     "execution_count": 83,
     "metadata": {},
     "output_type": "execute_result"
    }
   ],
   "source": [
    "a = []\n",
    "a.append([1,2,3])\n",
    "a.append([2,3,4])\n",
    "a"
   ]
  },
  {
   "cell_type": "code",
   "execution_count": 103,
   "metadata": {},
   "outputs": [
    {
     "data": {
      "text/plain": [
       "[[1, 2, 3], [2, 3, 4]]"
      ]
     },
     "execution_count": 103,
     "metadata": {},
     "output_type": "execute_result"
    }
   ],
   "source": [
    "import random\n",
    "random.shuffle(a)\n",
    "a"
   ]
  },
  {
   "cell_type": "code",
   "execution_count": 105,
   "metadata": {},
   "outputs": [],
   "source": [
    "random.shuffle(a[0])"
   ]
  },
  {
   "cell_type": "code",
   "execution_count": 106,
   "metadata": {},
   "outputs": [
    {
     "data": {
      "text/plain": [
       "[[3, 2, 1], [2, 3, 4]]"
      ]
     },
     "execution_count": 106,
     "metadata": {},
     "output_type": "execute_result"
    }
   ],
   "source": [
    "a"
   ]
  },
  {
   "cell_type": "code",
   "execution_count": null,
   "metadata": {},
   "outputs": [],
   "source": []
  },
  {
   "cell_type": "code",
   "execution_count": 48,
   "metadata": {},
   "outputs": [
    {
     "name": "stdout",
     "output_type": "stream",
     "text": [
      "rm: cannot remove 'data/acc_list_tr': No such file or directory\n",
      "rm: cannot remove 'data/acc_list_ts': No such file or directory\n"
     ]
    }
   ],
   "source": [
    "! rm -r data/log_query.txt\n",
    "! rm -r data/log_pred.txt\n",
    "! rm -r data/acc_list_tr\n",
    "! rm -r data/acc_list_ts"
   ]
  },
  {
   "cell_type": "code",
   "execution_count": 28,
   "metadata": {
    "scrolled": false
   },
   "outputs": [
    {
     "name": "stdout",
     "output_type": "stream",
     "text": [
      "accuracy:  0.9436619718309859\n"
     ]
    }
   ],
   "source": [
    "import re\n",
    "\n",
    "def calc_acc():\n",
    "    labels1 = []\n",
    "    labels2 = []\n",
    "    with open('data/log_query.txt') as f:\n",
    "        for s_line in f:\n",
    "            label = []\n",
    "            l = s_line.split(',')\n",
    "            for l_ in l[1:-1]:\n",
    "                label.append(int(l_))\n",
    "            labels1.append(label)\n",
    "    with open('data/log_pred.txt') as f:\n",
    "        for s_line in f:\n",
    "            l = s_line.split(',')\n",
    "            label = []\n",
    "            for l_ in l[1:-1]:\n",
    "                label.append(int(l_))\n",
    "            labels2.append(label)\n",
    "\n",
    "    cnt1 = 0\n",
    "    cnt2 = 0\n",
    "    for label1, label2 in zip(labels1, labels2):\n",
    "        for i,j in zip(label1, label2):\n",
    "            if i%2 == j:\n",
    "                cnt1 += 1\n",
    "            cnt2+= 1\n",
    "\n",
    "    print('accuracy: ', cnt1 /cnt2)\n",
    "calc_acc()"
   ]
  },
  {
   "cell_type": "code",
   "execution_count": 29,
   "metadata": {},
   "outputs": [],
   "source": [
    "fnames = !ls flower/natural"
   ]
  },
  {
   "cell_type": "code",
   "execution_count": 30,
   "metadata": {},
   "outputs": [
    {
     "data": {
      "text/plain": [
       "1636"
      ]
     },
     "execution_count": 30,
     "metadata": {},
     "output_type": "execute_result"
    }
   ],
   "source": [
    "len(fnames)"
   ]
  },
  {
   "cell_type": "code",
   "execution_count": 39,
   "metadata": {},
   "outputs": [],
   "source": [
    "import pandas as pd\n",
    "df = pd.DataFrame(fnames)\n",
    "df[1] = [re.findall('(.+)_\\d+.png', fname)[0] for fname in df[0]]"
   ]
  },
  {
   "cell_type": "code",
   "execution_count": 40,
   "metadata": {},
   "outputs": [],
   "source": [
    "df.rename(columns={0: 'fname', 1: 'pre'}).to_csv('flower_natural.csv', index = False)"
   ]
  },
  {
   "cell_type": "code",
   "execution_count": null,
   "metadata": {},
   "outputs": [],
   "source": []
  }
 ],
 "metadata": {
  "kernelspec": {
   "display_name": "Python 3",
   "language": "python",
   "name": "python3"
  },
  "language_info": {
   "codemirror_mode": {
    "name": "ipython",
    "version": 3
   },
   "file_extension": ".py",
   "mimetype": "text/x-python",
   "name": "python",
   "nbconvert_exporter": "python",
   "pygments_lexer": "ipython3",
   "version": "3.7.7"
  }
 },
 "nbformat": 4,
 "nbformat_minor": 4
}
